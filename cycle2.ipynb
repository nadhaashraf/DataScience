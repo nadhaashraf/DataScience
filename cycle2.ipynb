{
 "cells": [
  {
   "cell_type": "code",
   "execution_count": 1,
   "id": "a881a608",
   "metadata": {},
   "outputs": [
    {
     "name": "stdout",
     "output_type": "stream",
     "text": [
      "Matrix A:\n",
      "Enter the number of rows: 2\n",
      "Enter the number of columns: 2\n",
      "Enter the matrix values row-wise:\n",
      "Enter value for element (1,1): 1\n",
      "Enter value for element (1,2): 2\n",
      "Enter value for element (2,1): 3\n",
      "Enter value for element (2,2): 4\n",
      "\n",
      "Matrix B:\n",
      "Enter the number of rows: 2\n",
      "Enter the number of columns: 2\n",
      "Enter the matrix values row-wise:\n",
      "Enter value for element (1,1): 5\n",
      "Enter value for element (1,2): 6\n",
      "Enter value for element (2,1): 7\n",
      "Enter value for element (2,2): 8\n"
     ]
    }
   ],
   "source": [
    "import numpy as np\n",
    "\n",
    "# Function to read a matrix from the user\n",
    "def read_matrix():\n",
    "    rows = int(input(\"Enter the number of rows: \"))\n",
    "    cols = int(input(\"Enter the number of columns: \"))\n",
    "    \n",
    "    matrix = []\n",
    "    print(\"Enter the matrix values row-wise:\")\n",
    "    for i in range(rows):\n",
    "        row = []\n",
    "        for j in range(cols):\n",
    "            val = int(input(f\"Enter value for element ({i+1},{j+1}): \"))\n",
    "            row.append(val)\n",
    "        matrix.append(row)\n",
    "    \n",
    "    return np.array(matrix)\n",
    "\n",
    "# Main program\n",
    "print(\"Matrix A:\")\n",
    "matrix_a = read_matrix()\n",
    "\n",
    "print(\"\\nMatrix B:\")\n",
    "matrix_b = read_matrix()"
   ]
  },
  {
   "cell_type": "code",
   "execution_count": 2,
   "id": "7b107d79",
   "metadata": {},
   "outputs": [
    {
     "name": "stdout",
     "output_type": "stream",
     "text": [
      "\n",
      "1. Dot Product:\n",
      "[[19 22]\n",
      " [43 50]]\n"
     ]
    }
   ],
   "source": [
    "# 1. Dot Product\n",
    "dot_product = np.dot(matrix_a, matrix_b)\n",
    "print(\"\\n1. Dot Product:\")\n",
    "print(dot_product)\n"
   ]
  },
  {
   "cell_type": "code",
   "execution_count": 3,
   "id": "ae244b53",
   "metadata": {},
   "outputs": [
    {
     "name": "stdout",
     "output_type": "stream",
     "text": [
      "\n",
      "2. Transpose of Matrix A:\n",
      "[[1 3]\n",
      " [2 4]]\n",
      "\n",
      "Transpose of Matrix B:\n",
      "[[5 7]\n",
      " [6 8]]\n"
     ]
    }
   ],
   "source": [
    "# 2. Transpose\n",
    "transpose_a = np.transpose(matrix_a)\n",
    "transpose_b = np.transpose(matrix_b)\n",
    "print(\"\\n2. Transpose of Matrix A:\")\n",
    "print(transpose_a)\n",
    "print(\"\\nTranspose of Matrix B:\")\n",
    "print(transpose_b)"
   ]
  },
  {
   "cell_type": "code",
   "execution_count": 4,
   "id": "f8ead01c",
   "metadata": {},
   "outputs": [
    {
     "name": "stdout",
     "output_type": "stream",
     "text": [
      "\n",
      "3. Trace of Matrix A: 5\n",
      "Trace of Matrix B: 13\n"
     ]
    }
   ],
   "source": [
    "# 3. Trace\n",
    "trace_a = np.trace(matrix_a)\n",
    "trace_b = np.trace(matrix_b)\n",
    "print(\"\\n3. Trace of Matrix A:\", trace_a)\n",
    "print(\"Trace of Matrix B:\", trace_b)"
   ]
  },
  {
   "cell_type": "code",
   "execution_count": 5,
   "id": "e6021191",
   "metadata": {},
   "outputs": [
    {
     "name": "stdout",
     "output_type": "stream",
     "text": [
      "\n",
      "4. Rank of Matrix A: 2\n",
      "Rank of Matrix B: 2\n"
     ]
    }
   ],
   "source": [
    "# 4. Rank\n",
    "rank_a = np.linalg.matrix_rank(matrix_a)\n",
    "rank_b = np.linalg.matrix_rank(matrix_b)\n",
    "print(\"\\n4. Rank of Matrix A:\", rank_a)\n",
    "print(\"Rank of Matrix B:\", rank_b)\n"
   ]
  },
  {
   "cell_type": "code",
   "execution_count": 6,
   "id": "538a6b8e",
   "metadata": {},
   "outputs": [
    {
     "name": "stdout",
     "output_type": "stream",
     "text": [
      "\n",
      "5. Determinant of Matrix A: -2.0000000000000004\n",
      "Determinant of Matrix B: -2.000000000000005\n"
     ]
    }
   ],
   "source": [
    "# 5. Determinant\n",
    "det_a = np.linalg.det(matrix_a)\n",
    "det_b = np.linalg.det(matrix_b)\n",
    "print(\"\\n5. Determinant of Matrix A:\", det_a)\n",
    "print(\"Determinant of Matrix B:\", det_b)\n"
   ]
  },
  {
   "cell_type": "code",
   "execution_count": 7,
   "id": "1aa79124",
   "metadata": {},
   "outputs": [
    {
     "name": "stdout",
     "output_type": "stream",
     "text": [
      "\n",
      "6. Inverse of Matrix A:\n",
      "[[-2.   1. ]\n",
      " [ 1.5 -0.5]]\n"
     ]
    }
   ],
   "source": [
    "# 6. Inverse\n",
    "if det_a == 0:\n",
    "    print(\"\\nMatrix A is singular, and the inverse does not exist.\")\n",
    "else:\n",
    "    inverse_a = np.linalg.inv(matrix_a)\n",
    "    print(\"\\n6. Inverse of Matrix A:\")\n",
    "    print(inverse_a)"
   ]
  },
  {
   "cell_type": "code",
   "execution_count": 8,
   "id": "afc5f166",
   "metadata": {},
   "outputs": [
    {
     "name": "stdout",
     "output_type": "stream",
     "text": [
      "\n",
      "Inverse of Matrix B:\n",
      "[[-4.   3. ]\n",
      " [ 3.5 -2.5]]\n"
     ]
    }
   ],
   "source": [
    "if det_b == 0:\n",
    "    print(\"\\nMatrix B is singular, and the inverse does not exist.\")\n",
    "else:\n",
    "    inverse_b = np.linalg.inv(matrix_b)\n",
    "    print(\"\\nInverse of Matrix B:\")\n",
    "    print(inverse_b)"
   ]
  },
  {
   "cell_type": "code",
   "execution_count": 9,
   "id": "7f92ed46",
   "metadata": {},
   "outputs": [
    {
     "name": "stdout",
     "output_type": "stream",
     "text": [
      "\n",
      "7. Eigenvalues and Eigenvectors of Matrix A:\n",
      "Eigenvalues:\n",
      "[-0.37228132  5.37228132]\n",
      "Eigenvectors:\n",
      "[[-0.82456484 -0.41597356]\n",
      " [ 0.56576746 -0.90937671]]\n",
      "\n",
      "Eigenvalues and Eigenvectors of Matrix B:\n",
      "Eigenvalues:\n",
      "[-0.15206735 13.15206735]\n",
      "Eigenvectors:\n",
      "[[-0.75868086 -0.59276441]\n",
      " [ 0.65146248 -0.80537591]]\n"
     ]
    }
   ],
   "source": [
    "# 7. Eigenvalues and Eigenvectors\n",
    "eigenvalues_a, eigenvectors_a = np.linalg.eig(matrix_a)\n",
    "eigenvalues_b, eigenvectors_b = np.linalg.eig(matrix_b)\n",
    "print(\"\\n7. Eigenvalues and Eigenvectors of Matrix A:\")\n",
    "print(\"Eigenvalues:\")\n",
    "print(eigenvalues_a)\n",
    "print(\"Eigenvectors:\")\n",
    "print(eigenvectors_a)\n",
    "\n",
    "print(\"\\nEigenvalues and Eigenvectors of Matrix B:\")\n",
    "print(\"Eigenvalues:\")\n",
    "print(eigenvalues_b)\n",
    "print(\"Eigenvectors:\")\n",
    "print(eigenvectors_b)"
   ]
  },
  {
   "cell_type": "code",
   "execution_count": null,
   "id": "486b1b89",
   "metadata": {},
   "outputs": [],
   "source": []
  }
 ],
 "metadata": {
  "kernelspec": {
   "display_name": "Python 3 (ipykernel)",
   "language": "python",
   "name": "python3"
  },
  "language_info": {
   "codemirror_mode": {
    "name": "ipython",
    "version": 3
   },
   "file_extension": ".py",
   "mimetype": "text/x-python",
   "name": "python",
   "nbconvert_exporter": "python",
   "pygments_lexer": "ipython3",
   "version": "3.11.4"
  }
 },
 "nbformat": 4,
 "nbformat_minor": 5
}
